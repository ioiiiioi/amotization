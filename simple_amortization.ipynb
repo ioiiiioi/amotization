{
 "cells": [
  {
   "cell_type": "code",
   "execution_count": 1,
   "metadata": {},
   "outputs": [],
   "source": [
    "import pandas as pd\n",
    "import numpy as np\n",
    "import numpy_financial as npf \n"
   ]
  },
  {
   "cell_type": "code",
   "execution_count": null,
   "metadata": {},
   "outputs": [
    {
     "name": "stdout",
     "output_type": "stream",
     "text": [
      "   loan number loan amount          interest_rate           start_date  \\\n",
      "0          int       float   float: (annual rate)                 date   \n",
      "1            1       35000                   0.08  2023-09-01 00:00:00   \n",
      "2            2       40000                   0.08  2023-10-01 00:00:00   \n",
      "3            3       40000                   0.08  2023-11-01 00:00:00   \n",
      "4            4       40000                   0.08  2023-12-01 00:00:00   \n",
      "5            5       40000                   0.08  2024-01-01 00:00:00   \n",
      "6            6       40000                   0.08  2024-02-01 00:00:00   \n",
      "7            7       40000                   0.08  2024-03-01 00:00:00   \n",
      "8            8       40000                   0.08  2024-04-01 00:00:00   \n",
      "9            9       40000                   0.08  2024-05-01 00:00:00   \n",
      "10          10       40000                   0.08  2024-06-01 00:00:00   \n",
      "\n",
      "             term  payment frequency CPR (Conditional Prepayment Rate)  \n",
      "0   float (months)               str                             float  \n",
      "1               36           Monthly                              0.05  \n",
      "2               12           Monthly                              0.05  \n",
      "3               48           Monthly                              0.05  \n",
      "4               60           Monthly                              0.05  \n",
      "5               72           Monthly                              0.05  \n",
      "6               60           Monthly                              0.05  \n",
      "7               72           Monthly                              0.05  \n",
      "8               60           Monthly                              0.05  \n",
      "9               72           Monthly                              0.05  \n",
      "10              60           Monthly                              0.05  \n",
      "{'loan number': 'int', 'loan amount': 'float', 'interest_rate': ' float: (annual rate)', 'start_date': 'date', 'term': 'float (months)', 'payment frequency': 'str', 'CPR (Conditional Prepayment Rate)': 'float'}\n",
      "{'loan number': 1, 'loan amount': 35000, 'interest_rate': 0.08, 'start_date': datetime.datetime(2023, 9, 1, 0, 0), 'term': 36, 'payment frequency': 'Monthly', 'CPR (Conditional Prepayment Rate)': 0.05}\n",
      "{'loan number': 2, 'loan amount': 40000, 'interest_rate': 0.08, 'start_date': datetime.datetime(2023, 10, 1, 0, 0), 'term': 12, 'payment frequency': 'Monthly', 'CPR (Conditional Prepayment Rate)': 0.05}\n",
      "{'loan number': 3, 'loan amount': 40000, 'interest_rate': 0.08, 'start_date': datetime.datetime(2023, 11, 1, 0, 0), 'term': 48, 'payment frequency': 'Monthly', 'CPR (Conditional Prepayment Rate)': 0.05}\n",
      "{'loan number': 4, 'loan amount': 40000, 'interest_rate': 0.08, 'start_date': datetime.datetime(2023, 12, 1, 0, 0), 'term': 60, 'payment frequency': 'Monthly', 'CPR (Conditional Prepayment Rate)': 0.05}\n",
      "{'loan number': 5, 'loan amount': 40000, 'interest_rate': 0.08, 'start_date': datetime.datetime(2024, 1, 1, 0, 0), 'term': 72, 'payment frequency': 'Monthly', 'CPR (Conditional Prepayment Rate)': 0.05}\n",
      "{'loan number': 6, 'loan amount': 40000, 'interest_rate': 0.08, 'start_date': datetime.datetime(2024, 2, 1, 0, 0), 'term': 60, 'payment frequency': 'Monthly', 'CPR (Conditional Prepayment Rate)': 0.05}\n",
      "{'loan number': 7, 'loan amount': 40000, 'interest_rate': 0.08, 'start_date': datetime.datetime(2024, 3, 1, 0, 0), 'term': 72, 'payment frequency': 'Monthly', 'CPR (Conditional Prepayment Rate)': 0.05}\n",
      "{'loan number': 8, 'loan amount': 40000, 'interest_rate': 0.08, 'start_date': datetime.datetime(2024, 4, 1, 0, 0), 'term': 60, 'payment frequency': 'Monthly', 'CPR (Conditional Prepayment Rate)': 0.05}\n",
      "{'loan number': 9, 'loan amount': 40000, 'interest_rate': 0.08, 'start_date': datetime.datetime(2024, 5, 1, 0, 0), 'term': 72, 'payment frequency': 'Monthly', 'CPR (Conditional Prepayment Rate)': 0.05}\n",
      "{'loan number': 10, 'loan amount': 40000, 'interest_rate': 0.08, 'start_date': datetime.datetime(2024, 6, 1, 0, 0), 'term': 60, 'payment frequency': 'Monthly', 'CPR (Conditional Prepayment Rate)': 0.05}\n"
     ]
    }
   ],
   "source": [
    "# Importing file\n",
    "df = pd.read_excel(\"./data_lake/SimpleAmortizationTest.xlsx\", \"LoanDataTape\")\n",
    "\n",
    "# Convert data to Dict type object\n",
    "headers = [header for header in df.keys()]\n",
    "json_obj = []\n",
    "\n",
    "for obj in range(1,len(df)):\n",
    "    data = {}\n",
    "    for head in headers:\n",
    "        data[head.strip()] = df[head][obj]\n",
    "    json_obj.append(data)\n"
   ]
  },
  {
   "cell_type": "code",
   "execution_count": 3,
   "metadata": {},
   "outputs": [
    {
     "name": "stdout",
     "output_type": "stream",
     "text": [
      "{'loan number': 1, 'loan amount': 35000, 'interest_rate': 0.08, 'start_date': datetime.datetime(2023, 9, 1, 0, 0), 'term': 36, 'payment frequency': 'Monthly', 'CPR (Conditional Prepayment Rate)': 0.05, 'monthly_interest_rate': 0.006666666666666667, 'monthly_payment': 1096.77, 'SSM': np.float64(0.004265318777560645)}\n",
      "{'loan number': 2, 'loan amount': 40000, 'interest_rate': 0.08, 'start_date': datetime.datetime(2023, 10, 1, 0, 0), 'term': 12, 'payment frequency': 'Monthly', 'CPR (Conditional Prepayment Rate)': 0.05, 'monthly_interest_rate': 0.006666666666666667, 'monthly_payment': 3479.54, 'SSM': np.float64(0.004265318777560645)}\n",
      "{'loan number': 3, 'loan amount': 40000, 'interest_rate': 0.08, 'start_date': datetime.datetime(2023, 11, 1, 0, 0), 'term': 48, 'payment frequency': 'Monthly', 'CPR (Conditional Prepayment Rate)': 0.05, 'monthly_interest_rate': 0.006666666666666667, 'monthly_payment': 976.52, 'SSM': np.float64(0.004265318777560645)}\n",
      "{'loan number': 4, 'loan amount': 40000, 'interest_rate': 0.08, 'start_date': datetime.datetime(2023, 12, 1, 0, 0), 'term': 60, 'payment frequency': 'Monthly', 'CPR (Conditional Prepayment Rate)': 0.05, 'monthly_interest_rate': 0.006666666666666667, 'monthly_payment': 811.06, 'SSM': np.float64(0.004265318777560645)}\n",
      "{'loan number': 5, 'loan amount': 40000, 'interest_rate': 0.08, 'start_date': datetime.datetime(2024, 1, 1, 0, 0), 'term': 72, 'payment frequency': 'Monthly', 'CPR (Conditional Prepayment Rate)': 0.05, 'monthly_interest_rate': 0.006666666666666667, 'monthly_payment': 701.33, 'SSM': np.float64(0.004265318777560645)}\n",
      "{'loan number': 6, 'loan amount': 40000, 'interest_rate': 0.08, 'start_date': datetime.datetime(2024, 2, 1, 0, 0), 'term': 60, 'payment frequency': 'Monthly', 'CPR (Conditional Prepayment Rate)': 0.05, 'monthly_interest_rate': 0.006666666666666667, 'monthly_payment': 811.06, 'SSM': np.float64(0.004265318777560645)}\n",
      "{'loan number': 7, 'loan amount': 40000, 'interest_rate': 0.08, 'start_date': datetime.datetime(2024, 3, 1, 0, 0), 'term': 72, 'payment frequency': 'Monthly', 'CPR (Conditional Prepayment Rate)': 0.05, 'monthly_interest_rate': 0.006666666666666667, 'monthly_payment': 701.33, 'SSM': np.float64(0.004265318777560645)}\n",
      "{'loan number': 8, 'loan amount': 40000, 'interest_rate': 0.08, 'start_date': datetime.datetime(2024, 4, 1, 0, 0), 'term': 60, 'payment frequency': 'Monthly', 'CPR (Conditional Prepayment Rate)': 0.05, 'monthly_interest_rate': 0.006666666666666667, 'monthly_payment': 811.06, 'SSM': np.float64(0.004265318777560645)}\n",
      "{'loan number': 9, 'loan amount': 40000, 'interest_rate': 0.08, 'start_date': datetime.datetime(2024, 5, 1, 0, 0), 'term': 72, 'payment frequency': 'Monthly', 'CPR (Conditional Prepayment Rate)': 0.05, 'monthly_interest_rate': 0.006666666666666667, 'monthly_payment': 701.33, 'SSM': np.float64(0.004265318777560645)}\n",
      "{'loan number': 10, 'loan amount': 40000, 'interest_rate': 0.08, 'start_date': datetime.datetime(2024, 6, 1, 0, 0), 'term': 60, 'payment frequency': 'Monthly', 'CPR (Conditional Prepayment Rate)': 0.05, 'monthly_interest_rate': 0.006666666666666667, 'monthly_payment': 811.06, 'SSM': np.float64(0.004265318777560645)}\n"
     ]
    }
   ],
   "source": [
    "# Calculate monthly_interest_rate, monthly_payment, SSM  and put in new dataframe\n",
    "\n",
    "for instance in json_obj:\n",
    "    rate = instance[\"interest_rate\"]/12\n",
    "    cpr = instance[\"CPR (Conditional Prepayment Rate)\"]\n",
    "    instance[\"monthly_interest_rate\"] = rate\n",
    "    monthly_payment = npf.pmt(rate, instance[\"term\"], instance[\"loan amount\"])\n",
    "    instance[\"monthly_payment\"] = round(monthly_payment.item(), 2) * -1\n",
    "    ssm = 1-(np.float_power(1-cpr, (1/12)))\n",
    "    instance[\"SSM\"] = ssm\n",
    "    print(instance)\n",
    "\n"
   ]
  },
  {
   "cell_type": "code",
   "execution_count": 4,
   "metadata": {},
   "outputs": [],
   "source": [
    "# Create amortization schedule\n",
    "\n",
    "from dateutil.relativedelta import relativedelta\n",
    "\n",
    "all_schedule = []\n",
    "for obj in json_obj:\n",
    "    schedule_list = []\n",
    "    closing_balance = obj[\"loan amount\"]\n",
    "    amortization_date = obj[\"start_date\"]\n",
    "    for x in range(0, obj[\"term\"]+1):\n",
    "        period = x\n",
    "        schedule_date = amortization_date if x==0 else amortization_date + relativedelta(months=x)\n",
    "        opening_balance = 0 if x==0 else closing_balance # C\n",
    "        interest_rate = obj[\"interest_rate\"] if opening_balance > 0 else 0 # F\n",
    "        month_interest_rate = obj[\"monthly_interest_rate\"] if opening_balance > 0 else 0 # G\n",
    "        interest = opening_balance * month_interest_rate if opening_balance else 0 # H\n",
    "        payment = min(obj[\"monthly_payment\"], round(opening_balance + interest, 2)) # D\n",
    "        \n",
    "        prepayment = round(obj [\"SSM\"] * opening_balance, 2) if payment <= opening_balance else 0 # E\n",
    "        principal = payment + prepayment - interest\n",
    "        if x > 0: \n",
    "            closing_balance = opening_balance - principal if (opening_balance - principal) > 0 else 0 \n",
    "        else :\n",
    "            closing_balance\n",
    "\n",
    "        schedule = {\n",
    "            \"period\":period,\n",
    "            \"date\":schedule_date,\n",
    "            \"opening_balance\":round(opening_balance,2),\n",
    "            \"payment\":payment,\n",
    "            \"prepayment\":prepayment,\n",
    "            \"interest_rate\":\"{:.2%}\".format(round(interest_rate, 2)),\n",
    "            \"monthly_interest_rate\":\"{:.2%}\".format(month_interest_rate),\n",
    "            \"interest\":round(interest,2),\n",
    "            \"principal\":round(principal, 2),\n",
    "            \"closing_balance\":round(closing_balance, 2),\n",
    "            \"loan_number\" : obj[\"loan number\"]\n",
    "        }\n",
    "        all_schedule.append(schedule)\n",
    "    # all_schedule[obj[\"loan number\"]] = schedule_list\n",
    "\n",
    "# [print(line) for line in all_schedule[1]]\n",
    "\n",
    "agg_df = pd.DataFrame.from_dict(all_schedule)\n",
    "agg_df[\"date\"] = pd.to_datetime(agg_df[\"date\"])\n",
    "sorted_df = agg_df.sort_values(by=\"date\", ascending=True)\n",
    "sorted_df.to_csv(\"Simple amortization loan.csv\", index=False)\n",
    "# print(agg_df.date)\n",
    "\n",
    "\n"
   ]
  }
 ],
 "metadata": {
  "kernelspec": {
   "display_name": "test-vmla",
   "language": "python",
   "name": "python3"
  },
  "language_info": {
   "codemirror_mode": {
    "name": "ipython",
    "version": 3
   },
   "file_extension": ".py",
   "mimetype": "text/x-python",
   "name": "python",
   "nbconvert_exporter": "python",
   "pygments_lexer": "ipython3",
   "version": "3.11.3"
  }
 },
 "nbformat": 4,
 "nbformat_minor": 2
}
